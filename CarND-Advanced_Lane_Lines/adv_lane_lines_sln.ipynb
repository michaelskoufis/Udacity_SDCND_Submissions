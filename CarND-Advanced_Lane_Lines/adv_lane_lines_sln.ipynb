{
 "cells": [
  {
   "cell_type": "markdown",
   "metadata": {},
   "source": [
    "## Advanced Lane Finding Project\n",
    "\n",
    "The goals / steps of this project are the following:\n",
    "\n",
    "* Compute the camera calibration matrix and distortion coefficients given a set of chessboard images.\n",
    "* Apply a distortion correction to raw images.\n",
    "* Use color transforms, gradients, etc., to create a thresholded binary image.\n",
    "* Apply a perspective transform to rectify binary image (\"birds-eye view\").\n",
    "* Detect lane pixels and fit to find the lane boundary.\n",
    "* Determine the curvature of the lane and vehicle position with respect to center.\n",
    "* Warp the detected lane boundaries back onto the original image.\n",
    "* Output visual display of the lane boundaries and numerical estimation of lane curvature and vehicle position.\n",
    "\n",
    "---\n",
    "## Library Imports"
   ]
  },
  {
   "cell_type": "code",
   "execution_count": null,
   "metadata": {
    "collapsed": true
   },
   "outputs": [],
   "source": [
    "import numpy as np\n",
    "import cv2\n",
    "import glob\n",
    "import matplotlib.pyplot as plt\n",
    "%matplotlib inline\n",
    "\n",
    "# Import everything needed to edit/save/watch video clips\n",
    "from moviepy.editor import VideoFileClip\n",
    "from IPython.display import HTML\n",
    "\n",
    "from scipy.ndimage.interpolation import shift\n",
    "\n",
    "source=[]"
   ]
  },
  {
   "cell_type": "markdown",
   "metadata": {},
   "source": [
    "## Camera Calibration Function"
   ]
  },
  {
   "cell_type": "code",
   "execution_count": null,
   "metadata": {
    "collapsed": true
   },
   "outputs": [],
   "source": [
    "def CalibrateCamera():\n",
    "    \"\"\"\n",
    "    This function calibrates the camera utilizing provided chessboard images\n",
    "    \"\"\"\n",
    "    # prepare object points, like (0,0,0), (1,0,0), (2,0,0) ....,(6,5,0)\n",
    "    objp = np.zeros((6*9,3), np.float32)\n",
    "    objp[:,:2] = np.mgrid[0:9,0:6].T.reshape(-1,2)\n",
    "\n",
    "    # Arrays to store object points and image points from all the images.\n",
    "    objpoints = [] # 3d points in real world space\n",
    "    imgpoints = [] # 2d points in image plane.\n",
    "\n",
    "    # Make a list of calibration images\n",
    "    images = glob.glob('./camera_cal/calibration*.jpg')\n",
    "    \n",
    "    # Step through the list and search for chessboard corners\n",
    "    for fname in images:\n",
    "        img = cv2.imread(fname)\n",
    "        gray = cv2.cvtColor(img,cv2.COLOR_BGR2GRAY)\n",
    "\n",
    "        # Find the chessboard corners\n",
    "        ret, corners = cv2.findChessboardCorners(gray, (9,6),None)\n",
    "\n",
    "        # If found, add object points, image points\n",
    "        if ret == True:\n",
    "            objpoints.append(objp)\n",
    "            imgpoints.append(corners)\n",
    "\n",
    "            # Draw and display the corners\n",
    "            img = cv2.drawChessboardCorners(img, (9,6), corners, ret)\n",
    "            cv2.imshow('img',img)\n",
    "            cv2.waitKey(500)\n",
    "            \n",
    "    # Camera calibration, given object points, image points, and the shape of the grayscale image\n",
    "    ret, mtx, dist, rvecs, tvecs = cv2.calibrateCamera(objpoints, imgpoints, gray.shape[::-1], None, None)\n",
    "    \n",
    "    cv2.destroyAllWindows()\n",
    "    \n",
    "    return mtx,dist,images"
   ]
  },
  {
   "cell_type": "markdown",
   "metadata": {},
   "source": [
    "## Undistort Image Function"
   ]
  },
  {
   "cell_type": "code",
   "execution_count": null,
   "metadata": {
    "collapsed": true
   },
   "outputs": [],
   "source": [
    "def UndistortImage(img, camMatrix, distCoeffs):\n",
    "    \"\"\"\n",
    "    This function undistorts an image using the camera matrix and the distortion coefficients\n",
    "    \"\"\"    \n",
    "    dest = cv2.undistort(img, camMatrix, distCoeffs, None, camMatrix)\n",
    "    return dest"
   ]
  },
  {
   "cell_type": "markdown",
   "metadata": {},
   "source": [
    "## Color Conversion & Thresholding Function (HLS)"
   ]
  },
  {
   "cell_type": "code",
   "execution_count": null,
   "metadata": {
    "collapsed": true
   },
   "outputs": [],
   "source": [
    "def ColorThresholdingHLS(image,thresh):\n",
    "    \"\"\"\n",
    "    This function converts from RGB to the HLS color space and returns a thresholded binary image\n",
    "    \"\"\"\n",
    "    hls = cv2.cvtColor(image, cv2.COLOR_RGB2HLS)\n",
    "    H = hls[:,:,0]\n",
    "    L = hls[:,:,1]\n",
    "    S = hls[:,:,2]\n",
    "\n",
    "    binary = np.zeros_like(S)\n",
    "    binary[(S > thresh[0]) & (S <= thresh[1])] = 1\n",
    "    return binary"
   ]
  },
  {
   "cell_type": "markdown",
   "metadata": {},
   "source": [
    "## Color Conversion & Thresholding Function (LUV)"
   ]
  },
  {
   "cell_type": "code",
   "execution_count": null,
   "metadata": {
    "collapsed": true
   },
   "outputs": [],
   "source": [
    "def ColorThresholdingLUV(image,thresh):\n",
    "    \"\"\"\n",
    "    This function converts from RGB to the LUV color space and returns a thresholded binary image\n",
    "    \"\"\"\n",
    "    luv = cv2.cvtColor(image, cv2.COLOR_RGB2Luv)\n",
    "    L = luv[:,:,0]\n",
    "    U = luv[:,:,1]\n",
    "    V = luv[:,:,2]\n",
    "\n",
    "    binary = np.zeros_like(L)\n",
    "    binary[(L >= thresh[0]) & (L <= thresh[1])] = 1\n",
    "    return binary"
   ]
  },
  {
   "cell_type": "markdown",
   "metadata": {},
   "source": [
    "## Color Conversion & Thresholding Function (LAB)"
   ]
  },
  {
   "cell_type": "code",
   "execution_count": null,
   "metadata": {
    "collapsed": true
   },
   "outputs": [],
   "source": [
    "def ColorThresholdingLAB(image,thresh):\n",
    "    \"\"\"\n",
    "    This function converts from RGB to the LAB color space and returns a thresholded binary image\n",
    "    \"\"\"\n",
    "    lab = cv2.cvtColor(image, cv2.COLOR_RGB2Lab)\n",
    "    L = lab[:,:,0]\n",
    "    A = lab[:,:,1]\n",
    "    B = lab[:,:,2]\n",
    "\n",
    "    binary = np.zeros_like(B)\n",
    "    binary[(B > thresh[0]) & (B <= thresh[1])] = 1\n",
    "    return binary"
   ]
  },
  {
   "cell_type": "markdown",
   "metadata": {},
   "source": [
    "## Gradient Magnitude Thresholding Function "
   ]
  },
  {
   "cell_type": "code",
   "execution_count": null,
   "metadata": {
    "collapsed": true
   },
   "outputs": [],
   "source": [
    "def GradientMagThreshold(image, sobelKernel=3, magThresh=(0, 255)):\n",
    "    \"\"\"\n",
    "    This function computes the gradient magnitude and returns a thresholded binary image\n",
    "    \"\"\"\n",
    "    # Apply the following steps to image\n",
    "    # (1) Convert to grayscale\n",
    "    gray = cv2.cvtColor(image,cv2.COLOR_RGB2GRAY)\n",
    "    \n",
    "    # (2) Take the gradient in x and y separately\n",
    "    sobelx = cv2.Sobel(gray,cv2.CV_64F,1,0,sobelKernel)\n",
    "    sobely = cv2.Sobel(gray,cv2.CV_64F,0,1,sobelKernel)\n",
    "    \n",
    "    # (3) Calculate the magnitude \n",
    "    absSobelx = np.absolute(sobelx)\n",
    "    absSobely = np.absolute(sobely)\n",
    "    absSobel  = np.sqrt(absSobelx**2+absSobely**2)\n",
    "    absSobel  = absSobelx\n",
    "    \n",
    "    # 4) Scale to 8-bit (0 - 255) and convert to type = np.uint8\n",
    "    scaledSobel = np.uint8(255*absSobel/np.max(absSobel))\n",
    "    \n",
    "    # 5) Create a binary mask where magnitude thresholds are met\n",
    "    binary = np.zeros_like(scaledSobel)\n",
    "    binary[(scaledSobel >= magThresh[0]) & (scaledSobel <= magThresh[1])] = 1\n",
    "    \n",
    "    # 6) Return this mask as the binary output image\n",
    "    return binary"
   ]
  },
  {
   "cell_type": "markdown",
   "metadata": {},
   "source": [
    "## Gradient Direction Thresholding Function"
   ]
  },
  {
   "cell_type": "code",
   "execution_count": null,
   "metadata": {
    "collapsed": true
   },
   "outputs": [],
   "source": [
    "def GradientDirThreshold(image, sobelKernel=3, dirThresh=(0, np.pi/2)):\n",
    "    \"\"\"\n",
    "    This function computes the direction of the gradient and returns a thresholded binary image\n",
    "    \"\"\"    \n",
    "    # Apply the following steps to image\n",
    "    # (1) Convert to grayscale\n",
    "    gray = cv2.cvtColor(image,cv2.COLOR_RGB2GRAY)\n",
    "    \n",
    "    # (2) Take the gradient in x and y separately\n",
    "    sobelx = cv2.Sobel(gray,cv2.CV_64F,1,0,ksize = sobelKernel)\n",
    "    sobely = cv2.Sobel(gray,cv2.CV_64F,0,1,ksize = sobelKernel)\n",
    "    \n",
    "    # (3) Take the absolute value of the x and y gradients\n",
    "    absSobelx = np.absolute(sobelx)\n",
    "    absSobely = np.absolute(sobely)\n",
    "    \n",
    "    # (4) Use np.arctan2(abs_sobely, abs_sobelx) to calculate the direction of the gradient \n",
    "    dirGrad = np.arctan2(absSobely, absSobelx)\n",
    "    \n",
    "    # (5) Create a binary mask where direction thresholds are met\n",
    "    binary = np.zeros_like(dirGrad)\n",
    "    binary[(dirGrad >= dirThresh[0]) & (dirGrad <= dirThresh[1])] = 1\n",
    "    \n",
    "    # (6) Return this mask as your binary_output image\n",
    "    return binary"
   ]
  },
  {
   "cell_type": "markdown",
   "metadata": {},
   "source": [
    "## Mask Implementation Function"
   ]
  },
  {
   "cell_type": "code",
   "execution_count": null,
   "metadata": {
    "collapsed": true
   },
   "outputs": [],
   "source": [
    "def ApplyMasking(image):\n",
    "    \"\"\"\n",
    "    This function removes the upper half of the image and returns the bottom half\n",
    "    \"\"\"    \n",
    "    # Define the verticies for the masked region\n",
    "    imshape  = image.shape\n",
    "    \n",
    "    vertices = np.array([[(180,imshape[0]),\n",
    "                          (imshape[1]/2.0-60, imshape[0]/2.0+80), \n",
    "                          (imshape[1]/2.0+60, imshape[0]/2.0+80), \n",
    "                          (imshape[1]-25,imshape[0])]], dtype=np.int32)\n",
    "\n",
    "    # Initialize the mask\n",
    "    mask = np.zeros_like(image)   \n",
    "\n",
    "    # Define a 3 channel or 1 channel color to fill the mask with depending on the input image\n",
    "    if len(image.shape) > 2:\n",
    "        channel_count = image.shape[2]  # i.e. 3 or 4 depending on your image\n",
    "        ignore_mask_color = (255,) * channel_count\n",
    "    else:\n",
    "        ignore_mask_color = 255\n",
    "        \n",
    "    # Fill pixels inside the polygon defined by \"vertices\" with the fill color    \n",
    "    cv2.fillPoly(mask, vertices, ignore_mask_color)\n",
    "    \n",
    "    # Return the image only where mask pixels are nonzero\n",
    "    masked_image = cv2.bitwise_and(image, mask)\n",
    "    return masked_image"
   ]
  },
  {
   "cell_type": "markdown",
   "metadata": {},
   "source": [
    "## Find Lane Line Start Function"
   ]
  },
  {
   "cell_type": "code",
   "execution_count": null,
   "metadata": {
    "collapsed": true
   },
   "outputs": [],
   "source": [
    "def FindLaneLineStart(binary_warped):\n",
    "    \"\"\"\n",
    "    This function detects the beginning of the lane lines at the bottom of the image\n",
    "    \"\"\"\n",
    "    # Run this function on the warped binary image\n",
    "    # Take a histogram of the bottom half of the image\n",
    "    histogram = np.sum(binary_warped[np.int32(binary_warped.shape[0]/2):,:], axis=0)\n",
    "    \n",
    "    # Find the peak of the left and right halves of the histogram\n",
    "    # These will be the starting point for the left and right lines\n",
    "    midpoint = np.int(histogram.shape[0]/2)\n",
    "    leftxBase = np.argmax(histogram[:midpoint])\n",
    "    rightxBase = np.argmax(histogram[midpoint:]) + midpoint\n",
    "\n",
    "    return leftxBase,rightxBase"
   ]
  },
  {
   "cell_type": "markdown",
   "metadata": {},
   "source": [
    "## Track Sliding Windows Function"
   ]
  },
  {
   "cell_type": "code",
   "execution_count": null,
   "metadata": {
    "collapsed": true
   },
   "outputs": [],
   "source": [
    "def TrackSlidingWindows(nwindows,binary_warped,leftx_base,rightx_base):\n",
    "    \"\"\"\n",
    "    This function tracks the lane lines from the bottom to the top of the image using sliding windows\n",
    "    \"\"\"\n",
    "    # If we need to do a blind search, do the following\n",
    "    if True:\n",
    "        # Set height of windows\n",
    "        window_height = np.int(binary_warped.shape[0]/nwindows)\n",
    "        \n",
    "        # Identify the x and y positions of all nonzero pixels in the image\n",
    "        nonzero = binary_warped.nonzero()\n",
    "        nonzeroy = np.array(nonzero[0])\n",
    "        nonzerox = np.array(nonzero[1])\n",
    "        \n",
    "        # Current positions to be updated for each window\n",
    "        leftx_current = leftx_base\n",
    "        rightx_current = rightx_base\n",
    "        \n",
    "        # Set the width of the windows +/- margin\n",
    "        margin = 100\n",
    "        \n",
    "        # Set minimum number of pixels found to recenter window\n",
    "        minpix = 50\n",
    "        \n",
    "        # Create empty lists to receive left and right lane pixel indices\n",
    "        left_lane_inds = []\n",
    "        right_lane_inds = []\n",
    "        \n",
    "        # Output image for visualization\n",
    "        out_img = np.dstack((binary_warped, binary_warped, binary_warped))*255\n",
    "\n",
    "        # Step through the windows one by one\n",
    "        for window in range(nwindows):\n",
    "            # Identify window boundaries in x and y (and right and left)\n",
    "            win_y_low = binary_warped.shape[0] - (window+1)*window_height\n",
    "            win_y_high = binary_warped.shape[0] - window*window_height\n",
    "            win_xleft_low = leftx_current - margin\n",
    "            win_xleft_high = leftx_current + margin\n",
    "            win_xright_low = rightx_current - margin\n",
    "            win_xright_high = rightx_current + margin\n",
    "            \n",
    "            # Draw the windows on the visualization image\n",
    "            cv2.rectangle(out_img,(win_xleft_low,win_y_low),(win_xleft_high,win_y_high),(0,255,0), 2) \n",
    "            cv2.rectangle(out_img,(win_xright_low,win_y_low),(win_xright_high,win_y_high),(0,255,0), 2) \n",
    "\n",
    "            # Identify the nonzero pixels in x and y within the window\n",
    "            good_left_inds = ((nonzeroy >= win_y_low) & (nonzeroy < win_y_high) & (nonzerox >= win_xleft_low) & (nonzerox < win_xleft_high)).nonzero()[0]\n",
    "            good_right_inds = ((nonzeroy >= win_y_low) & (nonzeroy < win_y_high) & (nonzerox >= win_xright_low) & (nonzerox < win_xright_high)).nonzero()[0]\n",
    "            \n",
    "            # Append these indices to the lists\n",
    "            left_lane_inds.append(good_left_inds)\n",
    "            right_lane_inds.append(good_right_inds)\n",
    "            \n",
    "            # If you found > minpix pixels, recenter next window on their mean position\n",
    "            if len(good_left_inds) > minpix:\n",
    "                leftx_current = np.int(np.mean(nonzerox[good_left_inds]))\n",
    "            if len(good_right_inds) > minpix:        \n",
    "                rightx_current = np.int(np.mean(nonzerox[good_right_inds]))\n",
    "\n",
    "        # Concatenate the arrays of indices\n",
    "        left_lane_inds = np.concatenate(left_lane_inds)\n",
    "        right_lane_inds = np.concatenate(right_lane_inds)\n",
    "    # Else, if no blind search is necessary\n",
    "    else:\n",
    "        # from the next frame of video (also called \"binary_warped\")\n",
    "        # It's now much easier to find line pixels!\n",
    "        nonzero = binary_warped.nonzero()\n",
    "        nonzeroy = np.array(nonzero[0])\n",
    "        nonzerox = np.array(nonzero[1])\n",
    "        margin = 100\n",
    "        left_lane_inds = ((nonzerox > (left_fit[0]*(nonzeroy**2) + left_fit[1]*nonzeroy + left_fit[2] - margin)) & (nonzerox < (left_fit[0]*(nonzeroy**2) + left_fit[1]*nonzeroy + left_fit[2] + margin))) \n",
    "        right_lane_inds = ((nonzerox > (right_fit[0]*(nonzeroy**2) + right_fit[1]*nonzeroy + right_fit[2] - margin)) & (nonzerox < (right_fit[0]*(nonzeroy**2) + right_fit[1]*nonzeroy + right_fit[2] + margin)))  \n",
    "\n",
    "    # Extract left and right line pixel positions\n",
    "    leftx = nonzerox[left_lane_inds]\n",
    "    lefty = nonzeroy[left_lane_inds] \n",
    "    rightx = nonzerox[right_lane_inds]\n",
    "    righty = nonzeroy[right_lane_inds]\n",
    "    \n",
    "    return left_lane_inds,right_lane_inds,nonzerox,nonzeroy,leftx,lefty,rightx,righty,out_img"
   ]
  },
  {
   "cell_type": "markdown",
   "metadata": {},
   "source": [
    "## Polynomial Fit To Sliding Windows Function"
   ]
  },
  {
   "cell_type": "code",
   "execution_count": null,
   "metadata": {
    "collapsed": true
   },
   "outputs": [],
   "source": [
    "def FitPolynomialToSlidingWindows(binary_warped,leftx,lefty,rightx,righty):\n",
    "    \"\"\"\n",
    "    This function fits a polynomial to the lane lines\n",
    "    \"\"\"\n",
    "    # Fit a second order polynomial to each\n",
    "    left_fit = np.polyfit(lefty, leftx, 2)\n",
    "    right_fit = np.polyfit(righty, rightx, 2)\n",
    "    \n",
    "    # Generate x and y values for plotting\n",
    "    ploty = np.linspace(0, binary_warped.shape[0]-1, binary_warped.shape[0] )\n",
    "    left_fitx = left_fit[0]*ploty**2 + left_fit[1]*ploty + left_fit[2]\n",
    "    right_fitx = right_fit[0]*ploty**2 + right_fit[1]*ploty + right_fit[2]\n",
    "    \n",
    "    return left_fit,right_fit,left_fitx,right_fitx,ploty"
   ]
  },
  {
   "cell_type": "markdown",
   "metadata": {},
   "source": [
    "## Lane Line Visualization Function"
   ]
  },
  {
   "cell_type": "code",
   "execution_count": null,
   "metadata": {
    "collapsed": true
   },
   "outputs": [],
   "source": [
    "def VisualizeLaneLines(binary_warped,left_lane_inds,right_lane_inds,nonzerox,nonzeroy,left_fit,right_fit,margin):\n",
    "    # Generate x and y values for plotting\n",
    "    ploty = np.linspace(0, binary_warped.shape[0]-1, binary_warped.shape[0] )\n",
    "    left_fitx = left_fit[0]*ploty**2 + left_fit[1]*ploty + left_fit[2]\n",
    "    right_fitx = right_fit[0]*ploty**2 + right_fit[1]*ploty + right_fit[2]\n",
    "    \n",
    "    # Create an image to draw on and an image to show the selection window\n",
    "    out_img = np.dstack((binary_warped, binary_warped, binary_warped))*255\n",
    "    window_img = np.zeros_like(out_img)\n",
    "    # Color in left and right line pixels\n",
    "    out_img[nonzeroy[left_lane_inds], nonzerox[left_lane_inds]] = [255, 0, 0]\n",
    "    out_img[nonzeroy[right_lane_inds], nonzerox[right_lane_inds]] = [0, 0, 255]\n",
    "\n",
    "    # Generate a polygon to illustrate the search window area\n",
    "    # And recast the x and y points into usable format for cv2.fillPoly()\n",
    "    left_line_window1 = np.array([np.transpose(np.vstack([left_fitx-margin, ploty]))])\n",
    "    left_line_window2 = np.array([np.flipud(np.transpose(np.vstack([left_fitx+margin, ploty])))])\n",
    "    left_line_pts = np.hstack((left_line_window1, left_line_window2))\n",
    "    right_line_window1 = np.array([np.transpose(np.vstack([right_fitx-margin, ploty]))])\n",
    "    right_line_window2 = np.array([np.flipud(np.transpose(np.vstack([right_fitx+margin, ploty])))])\n",
    "    right_line_pts = np.hstack((right_line_window1, right_line_window2))\n",
    "\n",
    "    # Draw the lane onto the warped blank image\n",
    "    cv2.fillPoly(window_img, np.int32([left_line_pts]), (0,255, 0))\n",
    "    cv2.fillPoly(window_img, np.int32([right_line_pts]), (0,255, 0))\n",
    "    result = cv2.addWeighted(out_img, 1, window_img, 0.3, 0)\n",
    "    plt.imshow(result)\n",
    "    plt.plot(left_fitx, ploty, color='yellow')\n",
    "    plt.plot(right_fitx, ploty, color='yellow')\n",
    "    plt.xlim(0, 1280)\n",
    "    plt.ylim(720, 0)\n",
    "    plt.show()\n",
    "    \n",
    "    return result"
   ]
  },
  {
   "cell_type": "markdown",
   "metadata": {},
   "source": [
    "## Draw Full Lane Extent Function"
   ]
  },
  {
   "cell_type": "code",
   "execution_count": null,
   "metadata": {
    "collapsed": true
   },
   "outputs": [],
   "source": [
    "def DrawFullLane(undistorted,binary_warped,Minv,left_fit,right_fit):\n",
    "    \"\"\"\n",
    "    This function draws the full extent of the lane\n",
    "    \"\"\"\n",
    "    # Create an image to draw the lines on\n",
    "    warp_zero = np.zeros_like(binary_warped).astype(np.uint8)\n",
    "    color_warp = np.dstack((warp_zero, warp_zero, warp_zero))\n",
    "\n",
    "    # Recast the x and y points into usable format for cv2.fillPoly()\n",
    "    ploty = np.linspace(0, binary_warped.shape[0]-1, binary_warped.shape[0] )\n",
    "    left_fitx = left_fit[0]*ploty**2 + left_fit[1]*ploty + left_fit[2]\n",
    "    right_fitx = right_fit[0]*ploty**2 + right_fit[1]*ploty + right_fit[2]\n",
    "    pts_left = np.array([np.transpose(np.vstack([left_fitx, ploty]))])\n",
    "    pts_right = np.array([np.flipud(np.transpose(np.vstack([right_fitx, ploty])))])\n",
    "    pts = np.hstack((pts_left, pts_right))\n",
    "    \n",
    "    # Draw the lane onto the warped blank image\n",
    "    cv2.fillPoly(color_warp, np.int32([pts]), (0,255, 0))\n",
    "\n",
    "    # Warp the blank back to original image space using inverse perspective matrix (Minv)\n",
    "    newwarp = cv2.warpPerspective(color_warp, Minv, (color_warp.shape[1], color_warp.shape[0]))\n",
    "    \n",
    "    # Combine the result with the original image\n",
    "    result = cv2.addWeighted(undistorted, 1, newwarp, 0.3, 0)\n",
    "    \n",
    "    return result"
   ]
  },
  {
   "cell_type": "markdown",
   "metadata": {},
   "source": [
    "## Compute Lane Curvature Function"
   ]
  },
  {
   "cell_type": "code",
   "execution_count": null,
   "metadata": {
    "collapsed": true
   },
   "outputs": [],
   "source": [
    "def ComputeLaneCurvature(binary_warped,left_fit,right_fit):\n",
    "    \"\"\"\n",
    "    This function computes the lane curvature\n",
    "    \"\"\"\n",
    "    ploty = np.linspace(0, binary_warped.shape[0]-1, binary_warped.shape[0] )\n",
    "    leftx = left_fit[0]*ploty**2 + left_fit[1]*ploty + left_fit[2]\n",
    "    rightx = right_fit[0]*ploty**2 + right_fit[1]*ploty + right_fit[2]\n",
    "\n",
    "    leftx = leftx[::-1]  # Reverse to match top-to-bottom in y\n",
    "    rightx = rightx[::-1]  # Reverse to match top-to-bottom in y\n",
    "\n",
    "    # Fit a second order polynomial to pixel positions in each fake lane line\n",
    "    left_fit = np.polyfit(ploty, leftx, 2)\n",
    "    left_fitx = left_fit[0]*ploty**2 + left_fit[1]*ploty + left_fit[2]\n",
    "    right_fit = np.polyfit(ploty, rightx, 2)\n",
    "    right_fitx = right_fit[0]*ploty**2 + right_fit[1]*ploty + right_fit[2]\n",
    "\n",
    "    # Define y-value where we want radius of curvature\n",
    "    # I'll choose the maximum y-value, corresponding to the bottom of the image\n",
    "    y_eval = np.max(ploty)\n",
    "    left_curverad = ((1 + (2*left_fit[0]*y_eval + left_fit[1])**2)**1.5) / np.absolute(2*left_fit[0])\n",
    "    right_curverad = ((1 + (2*right_fit[0]*y_eval + right_fit[1])**2)**1.5) / np.absolute(2*right_fit[0])\n",
    "\n",
    "    # Define conversions in x and y from pixels space to meters\n",
    "    ym_per_pix = 30/720 # meters per pixel in y dimension\n",
    "    xm_per_pix = 3.7/700 # meters per pixel in x dimension\n",
    "\n",
    "    # Fit new polynomials to x,y in world space\n",
    "    left_fit_cr = np.polyfit(ploty*ym_per_pix, leftx*xm_per_pix, 2)\n",
    "    right_fit_cr = np.polyfit(ploty*ym_per_pix, rightx*xm_per_pix, 2)\n",
    "    \n",
    "    # Calculate the new radii of curvature\n",
    "    left_curverad = ((1 + (2*left_fit_cr[0]*y_eval*ym_per_pix + left_fit_cr[1])**2)**1.5) / np.absolute(2*left_fit_cr[0])\n",
    "    right_curverad = ((1 + (2*right_fit_cr[0]*y_eval*ym_per_pix + right_fit_cr[1])**2)**1.5) / np.absolute(2*right_fit_cr[0])\n",
    "    \n",
    "    return left_curverad,right_curverad,leftx,rightx,ploty,left_fitx,right_fitx"
   ]
  },
  {
   "cell_type": "markdown",
   "metadata": {},
   "source": [
    "## Compute Offset From Center"
   ]
  },
  {
   "cell_type": "code",
   "execution_count": null,
   "metadata": {
    "collapsed": true
   },
   "outputs": [],
   "source": [
    "def ComputeOffsetFromCenter(src,image):\n",
    "    # Get the x-coordinates of the lane-line start points\n",
    "    leftx  = src[1][0]\n",
    "    rightx = src[2][0]\n",
    "    \n",
    "    xm_per_pix = 3.7/700 # meters per pixel in x dimension\n",
    "\n",
    "    # Compute distance of the above points from the edges of the video frame\n",
    "    d_l = leftx\n",
    "    d_r = image.shape[1]-rightx\n",
    "        \n",
    "    if d_l > d_r:\n",
    "        return (d_l-(d_l+d_r)/2)*xm_per_pix\n",
    "    elif d_l < d_r:\n",
    "        return (d_r-(d_l+d_r)/2)*xm_per_pix\n",
    "    else:\n",
    "        return 0"
   ]
  },
  {
   "cell_type": "markdown",
   "metadata": {},
   "source": [
    "## Determine Source Points For Perspective Transform"
   ]
  },
  {
   "cell_type": "code",
   "execution_count": null,
   "metadata": {
    "collapsed": true
   },
   "outputs": [],
   "source": [
    "def GetPerspectiveSourcePoints(image):\n",
    "    \"\"\"\n",
    "    This function finds four corners in the original image to use as source points in the perspective transform\n",
    "    \"\"\" \n",
    "    # start scanning rows from the bottom of the image and identify the\n",
    "    # pixel coordinates for a pair of lane line points closest to the bottom\n",
    "    src = []\n",
    "    srcTop = {}\n",
    "    srcBottom = {}\n",
    "    margin = 10\n",
    "    left_done  = False\n",
    "    right_done = False\n",
    "    row_midpoint = int(image.shape[1]/2)\n",
    "    for i in np.arange(image.shape[0]-70,np.int32(image.shape[0]/2+80),-1):\n",
    "        row = image[i,:]\n",
    "        left_row = row[:row_midpoint-margin]\n",
    "        right_row = row[row_midpoint+margin:]\n",
    "        left_ind = np.where(left_row == 1)\n",
    "        right_ind = np.where(right_row == 1)\n",
    "        if len(left_ind[0] != 0) and left_done == False:\n",
    "            min_left_ind  = left_ind[0][0]\n",
    "            max_left_ind  = left_ind[0][-1]\n",
    "            med_left_ind  = left_ind[0][np.int32(len(left_ind[0])/2)]\n",
    "            mean_left_ind = np.int32((min_left_ind+max_left_ind)/2)\n",
    "            srcBottom[0] = [max_left_ind,i]\n",
    "            left_done = True\n",
    "        if len(right_ind[0] != 0) and right_done == False:           \n",
    "            min_right_ind = right_ind[0][0]\n",
    "            max_right_ind = right_ind[0][-1]\n",
    "            med_right_ind = right_ind[0][np.int32(len(right_ind[0])/2)]\n",
    "            mean_right_ind = np.int32((min_right_ind+max_right_ind)/2)\n",
    "            srcBottom[1] = [row_midpoint+margin+min_right_ind,i]            \n",
    "            right_done = True\n",
    "        if right_done == True and left_done == True:\n",
    "            break\n",
    "        \n",
    "    # start scanning rows from the top of the image and identify the\n",
    "    # pixel coordinates for a pair of lane line points closest to the top\n",
    "    row_midpoint = int(image.shape[1]/2)\n",
    "    left_done  = False\n",
    "    right_done = False\n",
    "    for i in np.arange(500,image.shape[0]):\n",
    "        row = image[i,:]\n",
    "        left_row = row[:row_midpoint-margin]\n",
    "        right_row = row[row_midpoint+margin:]\n",
    "        left_ind = np.where(left_row == 1)\n",
    "        right_ind = np.where(right_row == 1)\n",
    "        if len(left_ind[0] != 0) and left_done == False:\n",
    "            min_left_ind  = left_ind[0][0]\n",
    "            max_left_ind  = left_ind[0][-1]\n",
    "            med_left_ind  = left_ind[0][np.int32(len(left_ind[0])/2)]\n",
    "            mean_left_ind = np.int32((min_left_ind+max_left_ind)/2)\n",
    "            srcTop[0] = [max_left_ind,i]\n",
    "            left_done = True\n",
    "        if len(right_ind[0] != 0) and right_done == False:           \n",
    "            min_right_ind = right_ind[0][0]\n",
    "            max_right_ind = right_ind[0][-1]\n",
    "            med_right_ind = right_ind[0][np.int32(len(right_ind[0])/2)]\n",
    "            mean_right_ind = np.int32((min_right_ind+max_right_ind)/2)\n",
    "            srcTop[1] = [row_midpoint+margin+min_right_ind,i]            \n",
    "            right_done = True\n",
    "        if right_done == True and left_done == True:\n",
    "            break\n",
    "\n",
    "    src = np.int32([srcTop[0],srcBottom[0],srcBottom[1],srcTop[1]])\n",
    "    \n",
    "    # Extend source points to the top and bottom of the lane   \n",
    "    if len(srcTop) != 0 and len(srcBottom) != 0:\n",
    "        slopeLeft     = (srcBottom[0][1]-srcTop[0][1])/(srcBottom[0][0]-srcTop[0][0])\n",
    "        slopeRight    = (srcBottom[1][1]-srcTop[1][1])/(srcBottom[1][0]-srcTop[1][0])\n",
    "        interLeft     = -(slopeLeft*srcTop[0][0]-srcTop[0][1])\n",
    "        interRight    = -(slopeRight*srcTop[1][0]-srcTop[1][1])\n",
    "        ptBottomLeft  = [np.int32((image.shape[0]-interLeft)/slopeLeft),image.shape[0]]\n",
    "        ptBottomRight = [np.int32((image.shape[0]-interRight)/slopeRight),image.shape[0]]\n",
    "        ptTopLeft     = [np.int32((image.shape[0]/2+140-interLeft)/slopeLeft),np.int32(image.shape[0]/2+140)]\n",
    "        ptTopRight    = [np.int32((image.shape[0]/2+140-interRight)/slopeRight),np.int32(image.shape[0]/2+140)]\n",
    "        src = np.int32([ptTopLeft,ptBottomLeft,ptBottomRight,ptTopRight])\n",
    "        src = CheckSourcePoints(src,image)\n",
    "    \n",
    "    return src"
   ]
  },
  {
   "cell_type": "markdown",
   "metadata": {},
   "source": [
    "## Check Source Points For Perspective Transform"
   ]
  },
  {
   "cell_type": "code",
   "execution_count": null,
   "metadata": {
    "collapsed": true
   },
   "outputs": [],
   "source": [
    "def CheckSourcePoints(src,image):\n",
    "    global source\n",
    "    s = image.shape\n",
    "    if len(src) == 0 and len(source) != 0:\n",
    "        src = source\n",
    "    elif src[0][0] < 0 or src[1][0] < 0 or src[2][0] < 0 or src[3][0] < 0 or \\\n",
    "       src[0][0] > s[1] or src[1][0] > s[1] or src[2][0] > s[1] or src[3][0] > s[1] or \\\n",
    "       src[0][1] < 0 or src[1][1] < 0 or src[2][1] < 0 or src[3][1] < 0 or \\\n",
    "       src[0][1] > s[0] or src[1][1] > s[0] or src[2][1] > s[0] or src[3][1] > s[0]:\n",
    "        src = source\n",
    "    elif len(source) != 0 and (np.absolute((src[0][1]-src[1][1])) < 0.90*np.absolute((source[0][1]-source[1][1]))):\n",
    "        src = source\n",
    "    elif len(source) != 0 and (np.absolute((src[1][0]-src[2][0])) < 0.90*np.absolute((source[1][0]-source[2][0]))):\n",
    "        src = source\n",
    "    else:\n",
    "        source = src\n",
    "    return src"
   ]
  },
  {
   "cell_type": "markdown",
   "metadata": {},
   "source": [
    "## Determine Destination Points For Perspective Transform"
   ]
  },
  {
   "cell_type": "code",
   "execution_count": null,
   "metadata": {
    "collapsed": true
   },
   "outputs": [],
   "source": [
    "def GetPerspectiveDestinationPoints(image):\n",
    "    \"\"\"\n",
    "    This function estimates the destination points where the four corners in the original image \n",
    "    will map to in the warped image\n",
    "    \"\"\" \n",
    "    #offset = 25\n",
    "    #img_size = image.shape\n",
    "    #dst = np.float32([[offset, offset], \n",
    "    #                  [offset, img_size[0]-offset], \n",
    "    #                  [img_size[1]-offset, img_size[0]-offset], \n",
    "    #                  [img_size[1]-offset, offset]])\n",
    "    \n",
    "    img_size = image.shape\n",
    "    dst = np.int32([[240,0],[240,img_size[0]],[1040,img_size[0]],[1040,0]])\n",
    "    \n",
    "    return dst"
   ]
  },
  {
   "cell_type": "markdown",
   "metadata": {},
   "source": [
    "## Horizontal Shift Function "
   ]
  },
  {
   "cell_type": "code",
   "execution_count": null,
   "metadata": {
    "collapsed": true
   },
   "outputs": [],
   "source": [
    "def shiftHorizontally(image,pos):\n",
    "    new_image = image\n",
    "    for i in range(new_image.shape[0]):\n",
    "        new_image[i] = shift(new_image[i],pos,mode='wrap')\n",
    "    return new_image"
   ]
  },
  {
   "cell_type": "markdown",
   "metadata": {},
   "source": [
    "## Image Processing Pipeline"
   ]
  },
  {
   "cell_type": "code",
   "execution_count": null,
   "metadata": {
    "collapsed": true
   },
   "outputs": [],
   "source": [
    "def ImageProcessPipeline(image):\n",
    "    \"\"\"\n",
    "    This function contains the image processing pipeline of the video frames\n",
    "    \"\"\" \n",
    "    # Undistort current video frame using the camera matrix (3D to 2D) and the distortion coefficients\n",
    "    undistorted = UndistortImage(image, mtx, dist)\n",
    "    \n",
    "    # Use color transforms, gradients, etc., to create a thresholded binary image.\n",
    "    color_thresh_hls = (180, 255)    \n",
    "    color_thresh_luv = (225, 255)\n",
    "    color_thresh_lab = (155, 200)\n",
    "    grad_mag_thresh  = (85, 255)\n",
    "    grad_dir_thresh  = (0.9, 1.1)\n",
    "\n",
    "    color_binary_hls = ColorThresholdingHLS(undistorted, color_thresh_hls)\n",
    "    color_binary_luv = ColorThresholdingLUV(undistorted, color_thresh_luv)\n",
    "    color_binary_lab = ColorThresholdingLAB(undistorted, color_thresh_lab)\n",
    "    grad_mag_binary  = GradientMagThreshold(undistorted, 3, grad_mag_thresh)\n",
    "    grad_dir_binary  = GradientDirThreshold(undistorted, 3, grad_dir_thresh)\n",
    "    \n",
    "    ############# PLOT IMAGE ###########\n",
    "    #plt.imshow(color_binary_hls,'gray')\n",
    "    #plt.show()\n",
    "    ####################################\n",
    "\n",
    "    ############# PLOT IMAGE ###########\n",
    "    #plt.imshow(color_binary_luv,'gray')\n",
    "    #plt.show()\n",
    "    ####################################\n",
    "\n",
    "    ############# PLOT IMAGE ###########\n",
    "    #plt.imshow(color_binary_lab,'gray')\n",
    "    #plt.show()\n",
    "    ####################################\n",
    "\n",
    "    ############# PLOT IMAGE ###########\n",
    "    #plt.imshow(grad_mag_binary,'gray')\n",
    "    #plt.show()\n",
    "    ####################################\n",
    "\n",
    "    ############# PLOT IMAGE ###########\n",
    "    #plt.imshow(grad_dir_binary,'gray')\n",
    "    #plt.show()\n",
    "    ####################################\n",
    "\n",
    "    # Create composite binary image\n",
    "    combined = np.zeros_like(color_binary_luv)\n",
    "    combined[((color_binary_luv == 1) | \\\n",
    "              (color_binary_lab == 1) | \\\n",
    "              (grad_mag_binary == 1))] = 1\n",
    "\n",
    "    \n",
    "    ############# PLOT IMAGE ###########\n",
    "    #plt.imshow(combined,'gray')\n",
    "    #plt.show()\n",
    "    ####################################\n",
    "    \n",
    "    \n",
    "    ############# PLOT IMAGE ###########\n",
    "    #imshape = image.shape\n",
    "    #vertices = np.array([[(180,imshape[0]),\n",
    "    #                      (imshape[1]/2.0-60, imshape[0]/2.0+80), \n",
    "    #                      (imshape[1]/2.0+60, imshape[0]/2.0+80), \n",
    "    #                      (imshape[1]-25,imshape[0])]], dtype=np.int32)\n",
    "    #img = np.uint8(np.dstack((combined*255,combined*255,combined*255)))\n",
    "    #proj0 = cv2.polylines(img,np.int32([vertices]),1,(0,0,255),5) \n",
    "    #plt.imshow(img)\n",
    "    #plt.show()\n",
    "    ####################################\n",
    "     \n",
    "    \n",
    "    # Apply the mask to remove landscape features that might interfere with the CV analysis\n",
    "    masked = ApplyMasking(combined)\n",
    "    \n",
    "    ############# PLOT IMAGE ###########\n",
    "    #plt.imshow(masked,'gray')\n",
    "    #plt.show()\n",
    "    ####################################\n",
    "     \n",
    "    # Apply a perspective transform to rectify binary image (\"birds-eye view\").\n",
    "    src  = GetPerspectiveSourcePoints(masked)\n",
    "    dest = GetPerspectiveDestinationPoints(masked)\n",
    "\n",
    "    #img = np.uint8(np.dstack((masked*255,masked*255,masked*255)))\n",
    "    #proj1 = cv2.polylines(img,np.int32([src]),1,(255,0,0),5) \n",
    "    \n",
    "    ############# PLOT IMAGE ###########\n",
    "    #plt.imshow(proj1)\n",
    "    #plt.show()\n",
    "    ####################################\n",
    "    \n",
    "    # Given src and dst points, calculate the perspective transform matrix\n",
    "    M = cv2.getPerspectiveTransform(np.float32([src]), np.float32([dest]))\n",
    "    \n",
    "    # Compute the inverse perspective transform:\n",
    "    Minv = cv2.getPerspectiveTransform(np.float32([dest]), np.float32([src]))\n",
    "\n",
    "    # Warp the image using OpenCV warpPerspective()\n",
    "    warped = cv2.warpPerspective(masked, M, masked.shape[::-1])\n",
    "    \n",
    "    ############# PLOT IMAGE ###########\n",
    "    #plt.imshow(warped,'gray')\n",
    "    #plt.show()\n",
    "    ####################################\n",
    "    \n",
    "    # Enhance the warped image knowing the lane lines are parallel\n",
    "    warped_mask = np.ones(warped.shape)\n",
    "    warped_mask[:,np.int32(warped_mask.shape[1]/2):] = 0\n",
    "    warped_masked = np.int32(warped) & np.int32(warped_mask)\n",
    "    warped_masked_shifted = np.array(warped_masked)\n",
    "    warped_masked_shifted = shiftHorizontally(warped_masked_shifted,800)\n",
    "    new_warped = warped_masked | warped_masked_shifted\n",
    "    warped = np.array(new_warped)\n",
    "\n",
    "    #img = np.uint8(np.dstack((warped*255,warped*255,warped*255)))\n",
    "    #proj2 = cv2.polylines(img,np.int32([dest]),1,(255,0,0),5) \n",
    "    \n",
    "    ############# PLOT IMAGE ###########\n",
    "    #plt.imshow(proj2)\n",
    "    #plt.show()\n",
    "    ####################################\n",
    "\n",
    "    # Detect lane pixels and fit to find the lane boundary.\n",
    "    leftBaseX, rightBaseX = FindLaneLineStart(warped)\n",
    "    \n",
    "    # Track lane lines with the method of sliding windows\n",
    "    n_windows = 10\n",
    "    left_lane_inds,right_lane_inds,nonzerox,nonzeroy,leftx,lefty,rightx,righty,out_img = \\\n",
    "    TrackSlidingWindows(n_windows,warped,leftBaseX,rightBaseX)\n",
    "    \n",
    "    # Fit a polynomial expression to the lane line points\n",
    "    left_fit,right_fit,left_fitx,right_fitx,ploty = \\\n",
    "    FitPolynomialToSlidingWindows(warped,leftx,lefty,rightx,righty)\n",
    "\n",
    "    ############# PLOT IMAGE ###########\n",
    "    #plt.figure()\n",
    "    #out_img[nonzeroy[left_lane_inds], nonzerox[left_lane_inds]] = [255, 0, 0]\n",
    "    #out_img[nonzeroy[right_lane_inds], nonzerox[right_lane_inds]] = [0, 0, 255]\n",
    "    #plt.imshow(out_img)\n",
    "    #plt.plot(left_fitx, ploty, color='yellow')\n",
    "    #plt.plot(right_fitx, ploty, color='yellow')\n",
    "    #plt.xlim(0, 1280)\n",
    "    #plt.ylim(720, 0)\n",
    "    #plt.show()\n",
    "    ####################################\n",
    "\n",
    "    # Visualize the lane lines\n",
    "    #res1 = VisualizeLaneLines(warped,left_lane_inds,right_lane_inds,nonzerox,nonzeroy,left_fit,right_fit,100)\n",
    "    \n",
    "    ############# PLOT IMAGE ###########\n",
    "    #plt.imshow(res1)\n",
    "    #plt.show()\n",
    "    ####################################\n",
    "    \n",
    "    # Warp the detected lane boundaries back onto the original image.\n",
    "    res2 = DrawFullLane(undistorted,warped,Minv,left_fit,right_fit)\n",
    "\n",
    "    # Determine the curvature of the lane and vehicle position with respect to center.\n",
    "    left_curverad,right_curverad,leftx,rightx,ploty,left_fitx,right_fitx = ComputeLaneCurvature(warped,left_fit,right_fit)\n",
    "        \n",
    "    ############# PLOT IMAGE ###########\n",
    "    #plt.figure()\n",
    "    #mark_size = 3\n",
    "    #plt.plot(leftx, ploty, 'o', color='red', markersize=mark_size)\n",
    "    #plt.plot(rightx, ploty, 'o', color='blue', markersize=mark_size)\n",
    "    #plt.xlim(0, 1280)\n",
    "    #plt.ylim(0, 720)\n",
    "    #plt.plot(left_fitx, ploty, color='green', linewidth=3)\n",
    "    #plt.plot(right_fitx, ploty, color='green', linewidth=3)\n",
    "    #plt.gca().invert_yaxis()\n",
    "    #plt.grid()\n",
    "    #plt.show()\n",
    "    ####################################\n",
    "\n",
    "    # Now our radius of curvature is in meters\n",
    "    #print('Curvature: ',left_curverad, 'm,', right_curverad, 'm')\n",
    "    \n",
    "    # Compute car offset from the center of the lane\n",
    "    offset = ComputeOffsetFromCenter(src,image)\n",
    "    \n",
    "    cv2.putText(res2, 'Radius of Curvature is ' + str((left_curverad+right_curverad)/2) + ' m', (100, 100), cv2.FONT_HERSHEY_SIMPLEX, 1.25, (0, 255, 0), 2, cv2.LINE_AA)\n",
    "    cv2.putText(res2, 'Vehicle is ' + str(offset) + ' m left of center', (100, 150), cv2.FONT_HERSHEY_SIMPLEX, 1.25, (0, 255, 0), 2, cv2.LINE_AA)\n",
    "    \n",
    "    ############# PLOT IMAGE ###########\n",
    "    #plt.imshow(res2)\n",
    "    #plt.show()\n",
    "    ####################################\n",
    "    \n",
    "    # Output visual display of the lane boundaries and numerical estimation of lane curvature and vehicle position.\n",
    "    return res2"
   ]
  },
  {
   "cell_type": "markdown",
   "metadata": {},
   "source": [
    "## Main Body"
   ]
  },
  {
   "cell_type": "code",
   "execution_count": null,
   "metadata": {
    "collapsed": true
   },
   "outputs": [],
   "source": [
    "# Compute the camera calibration matrix and distortion coefficients given a set of chessboard images.\n",
    "mtx,dist,images = CalibrateCamera()"
   ]
  },
  {
   "cell_type": "code",
   "execution_count": null,
   "metadata": {
    "collapsed": true
   },
   "outputs": [],
   "source": [
    "# Apply a distortion correction to test images and showcase distortion correction performance.\n",
    "#undistorted = UndistortImage(cv2.imread(images[0]), mtx, dist)\n",
    "#plt.imshow(cv2.imread(images[0]))\n",
    "#plt.show()\n",
    "#plt.imshow(undistorted)\n",
    "#plt.show()\n",
    "\n",
    "# Make a list of calibration images\n",
    "#test_images = glob.glob('./test_images/*.jpg')\n",
    "    \n",
    "# Step through the list, undistort and display images\n",
    "#for fname in test_images:\n",
    "#    print(fname)\n",
    "#    imgBGR = cv2.imread(fname)\n",
    "#    imgRGB = cv2.cvtColor(imgBGR,cv2.COLOR_BGR2RGB)\n",
    "#    undistorted = UndistortImage(imgRGB, mtx, dist)\n",
    "#    plt.imshow(imgRGB)\n",
    "#    plt.show()\n",
    "#    plt.imshow(undistorted)\n",
    "#    plt.show()"
   ]
  },
  {
   "cell_type": "code",
   "execution_count": null,
   "metadata": {},
   "outputs": [],
   "source": [
    "# Open the video clip and run the image processing pipeline on all image frames.\n",
    "# Subsequently, save new video with the drawn full lane extent polygon. \n",
    "\n",
    "## To speed up the testing process you may want to try your pipeline on a shorter subclip of the video\n",
    "## To do so add .subclip(start_second,end_second) to the end of the line below\n",
    "## Where start_second and end_second are integer values representing the start and end of the subclip\n",
    "## You may also uncomment the following line for a subclip of the first 5 seconds\n",
    "clip = VideoFileClip(\"./project_video.mp4\")\n",
    "#clip = VideoFileClip(\"./project_video.mp4\").subclip(0,5)\n",
    "new_clip = clip.fl_image(ImageProcessPipeline) #NOTE: this function expects color images!!"
   ]
  },
  {
   "cell_type": "code",
   "execution_count": null,
   "metadata": {},
   "outputs": [],
   "source": [
    "new_output = './project_video_output.mp4'\n",
    "%time new_clip.write_videofile(new_output, audio=False)"
   ]
  },
  {
   "cell_type": "code",
   "execution_count": null,
   "metadata": {
    "collapsed": true
   },
   "outputs": [],
   "source": []
  }
 ],
 "metadata": {
  "anaconda-cloud": {},
  "kernelspec": {
   "display_name": "Python 3",
   "language": "python",
   "name": "python3"
  },
  "language_info": {
   "codemirror_mode": {
    "name": "ipython",
    "version": 3
   },
   "file_extension": ".py",
   "mimetype": "text/x-python",
   "name": "python",
   "nbconvert_exporter": "python",
   "pygments_lexer": "ipython3",
   "version": "3.5.2"
  },
  "widgets": {
   "state": {},
   "version": "1.1.2"
  }
 },
 "nbformat": 4,
 "nbformat_minor": 1
}
